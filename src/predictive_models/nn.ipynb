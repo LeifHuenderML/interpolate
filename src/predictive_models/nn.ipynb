{
 "cells": [
  {
   "cell_type": "code",
   "execution_count": 1,
   "metadata": {},
   "outputs": [],
   "source": [
    "import torch \n",
    "import torch.nn as nn\n",
    "import torch.optim as optim\n",
    "import numpy as np\n",
    "import pandas as pd\n",
    "from sklearn.model_selection import train_test_split\n",
    "import time\n",
    "import plotly.express as px\n",
    "import plotly.graph_objects as go"
   ]
  },
  {
   "cell_type": "code",
   "execution_count": 2,
   "metadata": {},
   "outputs": [
    {
     "name": "stdout",
     "output_type": "stream",
     "text": [
      "Device: cuda\n"
     ]
    }
   ],
   "source": [
    "# set the device to default as cpu, cuda if it is runnning on nvidia gpu and mps if it is running on a macbook\n",
    "device = torch.device('cpu')\n",
    "if torch.cuda.is_available():\n",
    "    device = torch.device('cuda')\n",
    "elif torch.backends.mps.is_available():\n",
    "    device = torch.device('mps')\n",
    "print(f'Device: {device}')"
   ]
  },
  {
   "cell_type": "code",
   "execution_count": 3,
   "metadata": {},
   "outputs": [
    {
     "name": "stdout",
     "output_type": "stream",
     "text": [
      "      sim_lat      sim_lon     sim_temp  sim_dew_point  sim_feels_like  \\\n",
      "0  681.651657  1475.458784  1953.988272    3106.781056     2171.000483   \n",
      "1  151.793161   769.031368  4539.150712    2890.086334     4881.962673   \n",
      "2  466.864816   179.698079  1357.260359    2585.302017     1593.666166   \n",
      "3  529.858496   706.427416  4014.002074    3137.782978     4317.279583   \n",
      "4  214.786840  1655.156863  1858.861100    3763.668512     2065.357310   \n",
      "\n",
      "   sim_temp_min  sim_temp_max  sim_pressure  sim_humidity  sim_wind_speed  \\\n",
      "0   1916.711339   2039.767348   1921.502017  10872.091565     1592.502058   \n",
      "1   4688.181265   4339.046602   1988.776760  11818.156540     1196.956873   \n",
      "2   1334.880177   1418.370131    621.962218   6646.864524     1414.385875   \n",
      "3   4291.811025   3715.637905   2202.130559  10875.214343     1447.905650   \n",
      "4   1873.332613   1880.476383   1810.585817  11639.092362     1542.782991   \n",
      "\n",
      "   sim_wind_deg  sim_clouds_all  sim_weather_id  \n",
      "0  81069.632255    23900.096924    55292.409633  \n",
      "1  73866.389468    22137.119528    59219.870736  \n",
      "2  81426.845745    19018.533224    47412.686129  \n",
      "3  75529.217082    22826.946795    59970.008679  \n",
      "4  83923.732138    23804.896576    54332.471184  \n",
      "Weather data shape: (245376, 18)\n",
      "Similarity scores shape: (42, 13)\n",
      "Similarity scores shape: (546,)\n",
      "Repeated similarity scores shape: (245376, 546)\n",
      "          0           1            2            3            4            5    \\\n",
      "0  681.651672  1475.45874  1953.988281  3106.781006  2171.000488  1916.711304   \n",
      "1  681.651672  1475.45874  1953.988281  3106.781006  2171.000488  1916.711304   \n",
      "2  681.651672  1475.45874  1953.988281  3106.781006  2171.000488  1916.711304   \n",
      "3  681.651672  1475.45874  1953.988281  3106.781006  2171.000488  1916.711304   \n",
      "4  681.651672  1475.45874  1953.988281  3106.781006  2171.000488  1916.711304   \n",
      "\n",
      "           6            7             8            9    ...  536  537  538  \\\n",
      "0  2039.767334  1921.502075  10872.091797  1592.502075  ...  inf  inf  inf   \n",
      "1  2039.767334  1921.502075  10872.091797  1592.502075  ...  inf  inf  inf   \n",
      "2  2039.767334  1921.502075  10872.091797  1592.502075  ...  inf  inf  inf   \n",
      "3  2039.767334  1921.502075  10872.091797  1592.502075  ...  inf  inf  inf   \n",
      "4  2039.767334  1921.502075  10872.091797  1592.502075  ...  inf  inf  inf   \n",
      "\n",
      "   539       540       541  542  543  544       545  \n",
      "0  inf  0.000005  0.065748  inf  inf  inf  0.008113  \n",
      "1  inf  0.000005  0.065748  inf  inf  inf  0.008113  \n",
      "2  inf  0.000005  0.065748  inf  inf  inf  0.008113  \n",
      "3  inf  0.000005  0.065748  inf  inf  inf  0.008113  \n",
      "4  inf  0.000005  0.065748  inf  inf  inf  0.008113  \n",
      "\n",
      "[5 rows x 546 columns]\n",
      "Combined data shape: (245376, 564)\n",
      "   Unnamed: 0                         dt city_name        lat         lon  \\\n",
      "0      324336  2016-01-01 00:00:00+00:00  Doña Ana  32.393081 -106.815781   \n",
      "1      324337  2016-01-01 01:00:00+00:00  Doña Ana  32.393081 -106.815781   \n",
      "2      324338  2016-01-01 02:00:00+00:00  Doña Ana  32.393081 -106.815781   \n",
      "3      324339  2016-01-01 03:00:00+00:00  Doña Ana  32.393081 -106.815781   \n",
      "4      324340  2016-01-01 04:00:00+00:00  Doña Ana  32.393081 -106.815781   \n",
      "\n",
      "   temp  dew_point  feels_like  temp_min  temp_max  ...  536  537  538  539  \\\n",
      "0  8.99       1.42        7.93      7.60      9.46  ...  inf  inf  inf  inf   \n",
      "1  8.25       2.07        7.63      7.44      8.68  ...  inf  inf  inf  inf   \n",
      "2  7.37       1.44        6.04      6.10      7.80  ...  inf  inf  inf  inf   \n",
      "3  5.58       1.32        3.13      4.30      6.02  ...  inf  inf  inf  inf   \n",
      "4  5.43       0.79        5.43      4.75      5.90  ...  inf  inf  inf  inf   \n",
      "\n",
      "        540       541  542  543  544       545  \n",
      "0  0.000005  0.065748  inf  inf  inf  0.008113  \n",
      "1  0.000005  0.065748  inf  inf  inf  0.008113  \n",
      "2  0.000005  0.065748  inf  inf  inf  0.008113  \n",
      "3  0.000005  0.065748  inf  inf  inf  0.008113  \n",
      "4  0.000005  0.065748  inf  inf  inf  0.008113  \n",
      "\n",
      "[5 rows x 564 columns]\n"
     ]
    }
   ],
   "source": [
    "sim_scores = pd.read_csv('../../refactor/data/pecan/pecans_similarity/dataframes/combined_df_similarity_scores.csv')\n",
    "weather_data = pd.read_csv('../../refactor/data/pecan/weather.csv')\n",
    "start_date = '2016-01-01'\n",
    "end_date = '2022-12-31'\n",
    "\n",
    "weather_data = weather_data.loc[weather_data['dt'].between(start_date, end_date)]\n",
    "sim_scores = sim_scores.drop(columns=['Unnamed: 0', 'Similarity Type'])\n",
    "print(sim_scores.head())\n",
    "sim_scores = sim_scores.to_numpy().astype(np.float32)\n",
    "print(f'Weather data shape: {weather_data.shape}')\n",
    "print(f'Similarity scores shape: {sim_scores.shape}')\n",
    "\n",
    "sim_scores = sim_scores.flatten()\n",
    "print(f'Similarity scores shape: {sim_scores.shape}')\n",
    "\n",
    "repeated_sim_scores = np.repeat(sim_scores[np.newaxis, :], 245376, axis=0)\n",
    "\n",
    "print(f'Repeated similarity scores shape: {repeated_sim_scores.shape}')\n",
    "sim_scores = pd.DataFrame(repeated_sim_scores)\n",
    "print(sim_scores.head())\n",
    "combined_data = pd.concat([weather_data.reset_index(drop=True), sim_scores.reset_index(drop=True)], axis=1)\n",
    "print(f'Combined data shape: {combined_data.shape}')\n",
    "\n",
    "print(combined_data.head())\n"
   ]
  },
  {
   "cell_type": "code",
   "execution_count": null,
   "metadata": {},
   "outputs": [],
   "source": []
  },
  {
   "cell_type": "code",
   "execution_count": null,
   "metadata": {},
   "outputs": [],
   "source": []
  },
  {
   "cell_type": "code",
   "execution_count": 4,
   "metadata": {},
   "outputs": [
    {
     "name": "stdout",
     "output_type": "stream",
     "text": [
      "Crop yield shape: (22, 8)\n",
      "(245376, 565)\n"
     ]
    },
    {
     "data": {
      "text/html": [
       "<div>\n",
       "<style scoped>\n",
       "    .dataframe tbody tr th:only-of-type {\n",
       "        vertical-align: middle;\n",
       "    }\n",
       "\n",
       "    .dataframe tbody tr th {\n",
       "        vertical-align: top;\n",
       "    }\n",
       "\n",
       "    .dataframe thead th {\n",
       "        text-align: right;\n",
       "    }\n",
       "</style>\n",
       "<table border=\"1\" class=\"dataframe\">\n",
       "  <thead>\n",
       "    <tr style=\"text-align: right;\">\n",
       "      <th></th>\n",
       "      <th>Unnamed: 0</th>\n",
       "      <th>dt</th>\n",
       "      <th>city_name</th>\n",
       "      <th>lat</th>\n",
       "      <th>lon</th>\n",
       "      <th>temp</th>\n",
       "      <th>dew_point</th>\n",
       "      <th>feels_like</th>\n",
       "      <th>temp_min</th>\n",
       "      <th>temp_max</th>\n",
       "      <th>...</th>\n",
       "      <th>537</th>\n",
       "      <th>538</th>\n",
       "      <th>539</th>\n",
       "      <th>540</th>\n",
       "      <th>541</th>\n",
       "      <th>542</th>\n",
       "      <th>543</th>\n",
       "      <th>544</th>\n",
       "      <th>545</th>\n",
       "      <th>yield</th>\n",
       "    </tr>\n",
       "  </thead>\n",
       "  <tbody>\n",
       "    <tr>\n",
       "      <th>0</th>\n",
       "      <td>324336</td>\n",
       "      <td>2016-01-01 00:00:00+00:00</td>\n",
       "      <td>Doña Ana</td>\n",
       "      <td>32.393081</td>\n",
       "      <td>-106.815781</td>\n",
       "      <td>8.99</td>\n",
       "      <td>1.42</td>\n",
       "      <td>7.93</td>\n",
       "      <td>7.60</td>\n",
       "      <td>9.46</td>\n",
       "      <td>...</td>\n",
       "      <td>inf</td>\n",
       "      <td>inf</td>\n",
       "      <td>inf</td>\n",
       "      <td>0.000005</td>\n",
       "      <td>0.065748</td>\n",
       "      <td>inf</td>\n",
       "      <td>inf</td>\n",
       "      <td>inf</td>\n",
       "      <td>0.008113</td>\n",
       "      <td>NaN</td>\n",
       "    </tr>\n",
       "    <tr>\n",
       "      <th>1</th>\n",
       "      <td>324337</td>\n",
       "      <td>2016-01-01 01:00:00+00:00</td>\n",
       "      <td>Doña Ana</td>\n",
       "      <td>32.393081</td>\n",
       "      <td>-106.815781</td>\n",
       "      <td>8.25</td>\n",
       "      <td>2.07</td>\n",
       "      <td>7.63</td>\n",
       "      <td>7.44</td>\n",
       "      <td>8.68</td>\n",
       "      <td>...</td>\n",
       "      <td>inf</td>\n",
       "      <td>inf</td>\n",
       "      <td>inf</td>\n",
       "      <td>0.000005</td>\n",
       "      <td>0.065748</td>\n",
       "      <td>inf</td>\n",
       "      <td>inf</td>\n",
       "      <td>inf</td>\n",
       "      <td>0.008113</td>\n",
       "      <td>NaN</td>\n",
       "    </tr>\n",
       "    <tr>\n",
       "      <th>2</th>\n",
       "      <td>324338</td>\n",
       "      <td>2016-01-01 02:00:00+00:00</td>\n",
       "      <td>Doña Ana</td>\n",
       "      <td>32.393081</td>\n",
       "      <td>-106.815781</td>\n",
       "      <td>7.37</td>\n",
       "      <td>1.44</td>\n",
       "      <td>6.04</td>\n",
       "      <td>6.10</td>\n",
       "      <td>7.80</td>\n",
       "      <td>...</td>\n",
       "      <td>inf</td>\n",
       "      <td>inf</td>\n",
       "      <td>inf</td>\n",
       "      <td>0.000005</td>\n",
       "      <td>0.065748</td>\n",
       "      <td>inf</td>\n",
       "      <td>inf</td>\n",
       "      <td>inf</td>\n",
       "      <td>0.008113</td>\n",
       "      <td>NaN</td>\n",
       "    </tr>\n",
       "    <tr>\n",
       "      <th>3</th>\n",
       "      <td>324339</td>\n",
       "      <td>2016-01-01 03:00:00+00:00</td>\n",
       "      <td>Doña Ana</td>\n",
       "      <td>32.393081</td>\n",
       "      <td>-106.815781</td>\n",
       "      <td>5.58</td>\n",
       "      <td>1.32</td>\n",
       "      <td>3.13</td>\n",
       "      <td>4.30</td>\n",
       "      <td>6.02</td>\n",
       "      <td>...</td>\n",
       "      <td>inf</td>\n",
       "      <td>inf</td>\n",
       "      <td>inf</td>\n",
       "      <td>0.000005</td>\n",
       "      <td>0.065748</td>\n",
       "      <td>inf</td>\n",
       "      <td>inf</td>\n",
       "      <td>inf</td>\n",
       "      <td>0.008113</td>\n",
       "      <td>NaN</td>\n",
       "    </tr>\n",
       "    <tr>\n",
       "      <th>4</th>\n",
       "      <td>324340</td>\n",
       "      <td>2016-01-01 04:00:00+00:00</td>\n",
       "      <td>Doña Ana</td>\n",
       "      <td>32.393081</td>\n",
       "      <td>-106.815781</td>\n",
       "      <td>5.43</td>\n",
       "      <td>0.79</td>\n",
       "      <td>5.43</td>\n",
       "      <td>4.75</td>\n",
       "      <td>5.90</td>\n",
       "      <td>...</td>\n",
       "      <td>inf</td>\n",
       "      <td>inf</td>\n",
       "      <td>inf</td>\n",
       "      <td>0.000005</td>\n",
       "      <td>0.065748</td>\n",
       "      <td>inf</td>\n",
       "      <td>inf</td>\n",
       "      <td>inf</td>\n",
       "      <td>0.008113</td>\n",
       "      <td>NaN</td>\n",
       "    </tr>\n",
       "  </tbody>\n",
       "</table>\n",
       "<p>5 rows × 565 columns</p>\n",
       "</div>"
      ],
      "text/plain": [
       "   Unnamed: 0                         dt city_name        lat         lon  \\\n",
       "0      324336  2016-01-01 00:00:00+00:00  Doña Ana  32.393081 -106.815781   \n",
       "1      324337  2016-01-01 01:00:00+00:00  Doña Ana  32.393081 -106.815781   \n",
       "2      324338  2016-01-01 02:00:00+00:00  Doña Ana  32.393081 -106.815781   \n",
       "3      324339  2016-01-01 03:00:00+00:00  Doña Ana  32.393081 -106.815781   \n",
       "4      324340  2016-01-01 04:00:00+00:00  Doña Ana  32.393081 -106.815781   \n",
       "\n",
       "   temp  dew_point  feels_like  temp_min  temp_max  ...  537  538  539  \\\n",
       "0  8.99       1.42        7.93      7.60      9.46  ...  inf  inf  inf   \n",
       "1  8.25       2.07        7.63      7.44      8.68  ...  inf  inf  inf   \n",
       "2  7.37       1.44        6.04      6.10      7.80  ...  inf  inf  inf   \n",
       "3  5.58       1.32        3.13      4.30      6.02  ...  inf  inf  inf   \n",
       "4  5.43       0.79        5.43      4.75      5.90  ...  inf  inf  inf   \n",
       "\n",
       "        540       541  542  543  544       545  yield  \n",
       "0  0.000005  0.065748  inf  inf  inf  0.008113    NaN  \n",
       "1  0.000005  0.065748  inf  inf  inf  0.008113    NaN  \n",
       "2  0.000005  0.065748  inf  inf  inf  0.008113    NaN  \n",
       "3  0.000005  0.065748  inf  inf  inf  0.008113    NaN  \n",
       "4  0.000005  0.065748  inf  inf  inf  0.008113    NaN  \n",
       "\n",
       "[5 rows x 565 columns]"
      ]
     },
     "execution_count": 4,
     "metadata": {},
     "output_type": "execute_result"
    }
   ],
   "source": [
    "\n",
    "crop_yield = pd.read_csv('../../refactor/data/pecan/yield.csv')\n",
    "print(f'Crop yield shape: {crop_yield.shape}')\n",
    "crop_yield.head()\n",
    "\n",
    "df = combined_data.reindex(columns=combined_data.columns.tolist() + ['yield'])\n",
    "print(df.shape)\n",
    "df.head()"
   ]
  },
  {
   "cell_type": "code",
   "execution_count": null,
   "metadata": {},
   "outputs": [],
   "source": []
  },
  {
   "cell_type": "code",
   "execution_count": 5,
   "metadata": {},
   "outputs": [
    {
     "data": {
      "text/html": [
       "<div>\n",
       "<style scoped>\n",
       "    .dataframe tbody tr th:only-of-type {\n",
       "        vertical-align: middle;\n",
       "    }\n",
       "\n",
       "    .dataframe tbody tr th {\n",
       "        vertical-align: top;\n",
       "    }\n",
       "\n",
       "    .dataframe thead th {\n",
       "        text-align: right;\n",
       "    }\n",
       "</style>\n",
       "<table border=\"1\" class=\"dataframe\">\n",
       "  <thead>\n",
       "    <tr style=\"text-align: right;\">\n",
       "      <th></th>\n",
       "      <th>lat</th>\n",
       "      <th>lon</th>\n",
       "      <th>temp</th>\n",
       "      <th>dew_point</th>\n",
       "      <th>feels_like</th>\n",
       "      <th>temp_min</th>\n",
       "      <th>temp_max</th>\n",
       "      <th>pressure</th>\n",
       "      <th>humidity</th>\n",
       "      <th>wind_speed</th>\n",
       "      <th>...</th>\n",
       "      <th>537</th>\n",
       "      <th>538</th>\n",
       "      <th>539</th>\n",
       "      <th>540</th>\n",
       "      <th>541</th>\n",
       "      <th>542</th>\n",
       "      <th>543</th>\n",
       "      <th>544</th>\n",
       "      <th>545</th>\n",
       "      <th>yield</th>\n",
       "    </tr>\n",
       "  </thead>\n",
       "  <tbody>\n",
       "    <tr>\n",
       "      <th>0</th>\n",
       "      <td>32.393081</td>\n",
       "      <td>-106.815781</td>\n",
       "      <td>8.99</td>\n",
       "      <td>1.42</td>\n",
       "      <td>7.93</td>\n",
       "      <td>7.60</td>\n",
       "      <td>9.46</td>\n",
       "      <td>1019</td>\n",
       "      <td>59</td>\n",
       "      <td>2.10</td>\n",
       "      <td>...</td>\n",
       "      <td>inf</td>\n",
       "      <td>inf</td>\n",
       "      <td>inf</td>\n",
       "      <td>0.000005</td>\n",
       "      <td>0.065748</td>\n",
       "      <td>inf</td>\n",
       "      <td>inf</td>\n",
       "      <td>inf</td>\n",
       "      <td>0.008113</td>\n",
       "      <td>1,837</td>\n",
       "    </tr>\n",
       "    <tr>\n",
       "      <th>1</th>\n",
       "      <td>32.393081</td>\n",
       "      <td>-106.815781</td>\n",
       "      <td>8.25</td>\n",
       "      <td>2.07</td>\n",
       "      <td>7.63</td>\n",
       "      <td>7.44</td>\n",
       "      <td>8.68</td>\n",
       "      <td>1020</td>\n",
       "      <td>65</td>\n",
       "      <td>1.52</td>\n",
       "      <td>...</td>\n",
       "      <td>inf</td>\n",
       "      <td>inf</td>\n",
       "      <td>inf</td>\n",
       "      <td>0.000005</td>\n",
       "      <td>0.065748</td>\n",
       "      <td>inf</td>\n",
       "      <td>inf</td>\n",
       "      <td>inf</td>\n",
       "      <td>0.008113</td>\n",
       "      <td>1,837</td>\n",
       "    </tr>\n",
       "    <tr>\n",
       "      <th>2</th>\n",
       "      <td>32.393081</td>\n",
       "      <td>-106.815781</td>\n",
       "      <td>7.37</td>\n",
       "      <td>1.44</td>\n",
       "      <td>6.04</td>\n",
       "      <td>6.10</td>\n",
       "      <td>7.80</td>\n",
       "      <td>1021</td>\n",
       "      <td>66</td>\n",
       "      <td>2.10</td>\n",
       "      <td>...</td>\n",
       "      <td>inf</td>\n",
       "      <td>inf</td>\n",
       "      <td>inf</td>\n",
       "      <td>0.000005</td>\n",
       "      <td>0.065748</td>\n",
       "      <td>inf</td>\n",
       "      <td>inf</td>\n",
       "      <td>inf</td>\n",
       "      <td>0.008113</td>\n",
       "      <td>1,837</td>\n",
       "    </tr>\n",
       "    <tr>\n",
       "      <th>3</th>\n",
       "      <td>32.393081</td>\n",
       "      <td>-106.815781</td>\n",
       "      <td>5.58</td>\n",
       "      <td>1.32</td>\n",
       "      <td>3.13</td>\n",
       "      <td>4.30</td>\n",
       "      <td>6.02</td>\n",
       "      <td>1022</td>\n",
       "      <td>74</td>\n",
       "      <td>3.10</td>\n",
       "      <td>...</td>\n",
       "      <td>inf</td>\n",
       "      <td>inf</td>\n",
       "      <td>inf</td>\n",
       "      <td>0.000005</td>\n",
       "      <td>0.065748</td>\n",
       "      <td>inf</td>\n",
       "      <td>inf</td>\n",
       "      <td>inf</td>\n",
       "      <td>0.008113</td>\n",
       "      <td>1,837</td>\n",
       "    </tr>\n",
       "    <tr>\n",
       "      <th>4</th>\n",
       "      <td>32.393081</td>\n",
       "      <td>-106.815781</td>\n",
       "      <td>5.43</td>\n",
       "      <td>0.79</td>\n",
       "      <td>5.43</td>\n",
       "      <td>4.75</td>\n",
       "      <td>5.90</td>\n",
       "      <td>1023</td>\n",
       "      <td>72</td>\n",
       "      <td>1.17</td>\n",
       "      <td>...</td>\n",
       "      <td>inf</td>\n",
       "      <td>inf</td>\n",
       "      <td>inf</td>\n",
       "      <td>0.000005</td>\n",
       "      <td>0.065748</td>\n",
       "      <td>inf</td>\n",
       "      <td>inf</td>\n",
       "      <td>inf</td>\n",
       "      <td>0.008113</td>\n",
       "      <td>1,837</td>\n",
       "    </tr>\n",
       "    <tr>\n",
       "      <th>5</th>\n",
       "      <td>32.393081</td>\n",
       "      <td>-106.815781</td>\n",
       "      <td>4.68</td>\n",
       "      <td>0.45</td>\n",
       "      <td>4.68</td>\n",
       "      <td>3.70</td>\n",
       "      <td>5.29</td>\n",
       "      <td>1024</td>\n",
       "      <td>74</td>\n",
       "      <td>0.00</td>\n",
       "      <td>...</td>\n",
       "      <td>inf</td>\n",
       "      <td>inf</td>\n",
       "      <td>inf</td>\n",
       "      <td>0.000005</td>\n",
       "      <td>0.065748</td>\n",
       "      <td>inf</td>\n",
       "      <td>inf</td>\n",
       "      <td>inf</td>\n",
       "      <td>0.008113</td>\n",
       "      <td>1,837</td>\n",
       "    </tr>\n",
       "    <tr>\n",
       "      <th>6</th>\n",
       "      <td>32.393081</td>\n",
       "      <td>-106.815781</td>\n",
       "      <td>3.89</td>\n",
       "      <td>0.23</td>\n",
       "      <td>3.89</td>\n",
       "      <td>3.27</td>\n",
       "      <td>4.51</td>\n",
       "      <td>1025</td>\n",
       "      <td>77</td>\n",
       "      <td>0.00</td>\n",
       "      <td>...</td>\n",
       "      <td>inf</td>\n",
       "      <td>inf</td>\n",
       "      <td>inf</td>\n",
       "      <td>0.000005</td>\n",
       "      <td>0.065748</td>\n",
       "      <td>inf</td>\n",
       "      <td>inf</td>\n",
       "      <td>inf</td>\n",
       "      <td>0.008113</td>\n",
       "      <td>1,837</td>\n",
       "    </tr>\n",
       "    <tr>\n",
       "      <th>7</th>\n",
       "      <td>32.393081</td>\n",
       "      <td>-106.815781</td>\n",
       "      <td>3.06</td>\n",
       "      <td>-1.15</td>\n",
       "      <td>0.10</td>\n",
       "      <td>2.44</td>\n",
       "      <td>3.70</td>\n",
       "      <td>1025</td>\n",
       "      <td>73</td>\n",
       "      <td>3.10</td>\n",
       "      <td>...</td>\n",
       "      <td>inf</td>\n",
       "      <td>inf</td>\n",
       "      <td>inf</td>\n",
       "      <td>0.000005</td>\n",
       "      <td>0.065748</td>\n",
       "      <td>inf</td>\n",
       "      <td>inf</td>\n",
       "      <td>inf</td>\n",
       "      <td>0.008113</td>\n",
       "      <td>1,837</td>\n",
       "    </tr>\n",
       "    <tr>\n",
       "      <th>8</th>\n",
       "      <td>32.393081</td>\n",
       "      <td>-106.815781</td>\n",
       "      <td>2.65</td>\n",
       "      <td>-1.50</td>\n",
       "      <td>0.02</td>\n",
       "      <td>2.09</td>\n",
       "      <td>3.36</td>\n",
       "      <td>1026</td>\n",
       "      <td>73</td>\n",
       "      <td>2.60</td>\n",
       "      <td>...</td>\n",
       "      <td>inf</td>\n",
       "      <td>inf</td>\n",
       "      <td>inf</td>\n",
       "      <td>0.000005</td>\n",
       "      <td>0.065748</td>\n",
       "      <td>inf</td>\n",
       "      <td>inf</td>\n",
       "      <td>inf</td>\n",
       "      <td>0.008113</td>\n",
       "      <td>1,837</td>\n",
       "    </tr>\n",
       "    <tr>\n",
       "      <th>9</th>\n",
       "      <td>32.393081</td>\n",
       "      <td>-106.815781</td>\n",
       "      <td>2.25</td>\n",
       "      <td>-1.36</td>\n",
       "      <td>0.05</td>\n",
       "      <td>1.87</td>\n",
       "      <td>2.94</td>\n",
       "      <td>1027</td>\n",
       "      <td>76</td>\n",
       "      <td>2.10</td>\n",
       "      <td>...</td>\n",
       "      <td>inf</td>\n",
       "      <td>inf</td>\n",
       "      <td>inf</td>\n",
       "      <td>0.000005</td>\n",
       "      <td>0.065748</td>\n",
       "      <td>inf</td>\n",
       "      <td>inf</td>\n",
       "      <td>inf</td>\n",
       "      <td>0.008113</td>\n",
       "      <td>1,837</td>\n",
       "    </tr>\n",
       "    <tr>\n",
       "      <th>10</th>\n",
       "      <td>32.393081</td>\n",
       "      <td>-106.815781</td>\n",
       "      <td>2.26</td>\n",
       "      <td>-0.73</td>\n",
       "      <td>2.26</td>\n",
       "      <td>1.78</td>\n",
       "      <td>2.98</td>\n",
       "      <td>1027</td>\n",
       "      <td>80</td>\n",
       "      <td>0.00</td>\n",
       "      <td>...</td>\n",
       "      <td>inf</td>\n",
       "      <td>inf</td>\n",
       "      <td>inf</td>\n",
       "      <td>0.000005</td>\n",
       "      <td>0.065748</td>\n",
       "      <td>inf</td>\n",
       "      <td>inf</td>\n",
       "      <td>inf</td>\n",
       "      <td>0.008113</td>\n",
       "      <td>1,837</td>\n",
       "    </tr>\n",
       "    <tr>\n",
       "      <th>11</th>\n",
       "      <td>32.393081</td>\n",
       "      <td>-106.815781</td>\n",
       "      <td>1.99</td>\n",
       "      <td>-0.67</td>\n",
       "      <td>0.51</td>\n",
       "      <td>1.60</td>\n",
       "      <td>2.78</td>\n",
       "      <td>1028</td>\n",
       "      <td>82</td>\n",
       "      <td>1.50</td>\n",
       "      <td>...</td>\n",
       "      <td>inf</td>\n",
       "      <td>inf</td>\n",
       "      <td>inf</td>\n",
       "      <td>0.000005</td>\n",
       "      <td>0.065748</td>\n",
       "      <td>inf</td>\n",
       "      <td>inf</td>\n",
       "      <td>inf</td>\n",
       "      <td>0.008113</td>\n",
       "      <td>1,837</td>\n",
       "    </tr>\n",
       "    <tr>\n",
       "      <th>12</th>\n",
       "      <td>32.393081</td>\n",
       "      <td>-106.815781</td>\n",
       "      <td>1.89</td>\n",
       "      <td>-1.51</td>\n",
       "      <td>1.89</td>\n",
       "      <td>1.52</td>\n",
       "      <td>2.71</td>\n",
       "      <td>1028</td>\n",
       "      <td>77</td>\n",
       "      <td>0.00</td>\n",
       "      <td>...</td>\n",
       "      <td>inf</td>\n",
       "      <td>inf</td>\n",
       "      <td>inf</td>\n",
       "      <td>0.000005</td>\n",
       "      <td>0.065748</td>\n",
       "      <td>inf</td>\n",
       "      <td>inf</td>\n",
       "      <td>inf</td>\n",
       "      <td>0.008113</td>\n",
       "      <td>1,837</td>\n",
       "    </tr>\n",
       "    <tr>\n",
       "      <th>13</th>\n",
       "      <td>32.393081</td>\n",
       "      <td>-106.815781</td>\n",
       "      <td>1.66</td>\n",
       "      <td>-1.86</td>\n",
       "      <td>-1.59</td>\n",
       "      <td>1.27</td>\n",
       "      <td>2.50</td>\n",
       "      <td>1030</td>\n",
       "      <td>76</td>\n",
       "      <td>3.10</td>\n",
       "      <td>...</td>\n",
       "      <td>inf</td>\n",
       "      <td>inf</td>\n",
       "      <td>inf</td>\n",
       "      <td>0.000005</td>\n",
       "      <td>0.065748</td>\n",
       "      <td>inf</td>\n",
       "      <td>inf</td>\n",
       "      <td>inf</td>\n",
       "      <td>0.008113</td>\n",
       "      <td>1,837</td>\n",
       "    </tr>\n",
       "    <tr>\n",
       "      <th>14</th>\n",
       "      <td>32.393081</td>\n",
       "      <td>-106.815781</td>\n",
       "      <td>1.62</td>\n",
       "      <td>-1.43</td>\n",
       "      <td>-0.68</td>\n",
       "      <td>1.31</td>\n",
       "      <td>2.40</td>\n",
       "      <td>1031</td>\n",
       "      <td>79</td>\n",
       "      <td>2.10</td>\n",
       "      <td>...</td>\n",
       "      <td>inf</td>\n",
       "      <td>inf</td>\n",
       "      <td>inf</td>\n",
       "      <td>0.000005</td>\n",
       "      <td>0.065748</td>\n",
       "      <td>inf</td>\n",
       "      <td>inf</td>\n",
       "      <td>inf</td>\n",
       "      <td>0.008113</td>\n",
       "      <td>1,837</td>\n",
       "    </tr>\n",
       "    <tr>\n",
       "      <th>15</th>\n",
       "      <td>32.393081</td>\n",
       "      <td>-106.815781</td>\n",
       "      <td>1.49</td>\n",
       "      <td>-1.70</td>\n",
       "      <td>-0.84</td>\n",
       "      <td>1.21</td>\n",
       "      <td>2.60</td>\n",
       "      <td>1032</td>\n",
       "      <td>78</td>\n",
       "      <td>2.10</td>\n",
       "      <td>...</td>\n",
       "      <td>inf</td>\n",
       "      <td>inf</td>\n",
       "      <td>inf</td>\n",
       "      <td>0.000005</td>\n",
       "      <td>0.065748</td>\n",
       "      <td>inf</td>\n",
       "      <td>inf</td>\n",
       "      <td>inf</td>\n",
       "      <td>0.008113</td>\n",
       "      <td>1,837</td>\n",
       "    </tr>\n",
       "    <tr>\n",
       "      <th>16</th>\n",
       "      <td>32.393081</td>\n",
       "      <td>-106.815781</td>\n",
       "      <td>2.05</td>\n",
       "      <td>-2.18</td>\n",
       "      <td>-0.18</td>\n",
       "      <td>1.71</td>\n",
       "      <td>3.10</td>\n",
       "      <td>1033</td>\n",
       "      <td>72</td>\n",
       "      <td>2.10</td>\n",
       "      <td>...</td>\n",
       "      <td>inf</td>\n",
       "      <td>inf</td>\n",
       "      <td>inf</td>\n",
       "      <td>0.000005</td>\n",
       "      <td>0.065748</td>\n",
       "      <td>inf</td>\n",
       "      <td>inf</td>\n",
       "      <td>inf</td>\n",
       "      <td>0.008113</td>\n",
       "      <td>1,837</td>\n",
       "    </tr>\n",
       "    <tr>\n",
       "      <th>17</th>\n",
       "      <td>32.393081</td>\n",
       "      <td>-106.815781</td>\n",
       "      <td>2.88</td>\n",
       "      <td>-1.64</td>\n",
       "      <td>0.30</td>\n",
       "      <td>2.45</td>\n",
       "      <td>3.62</td>\n",
       "      <td>1033</td>\n",
       "      <td>71</td>\n",
       "      <td>2.60</td>\n",
       "      <td>...</td>\n",
       "      <td>inf</td>\n",
       "      <td>inf</td>\n",
       "      <td>inf</td>\n",
       "      <td>0.000005</td>\n",
       "      <td>0.065748</td>\n",
       "      <td>inf</td>\n",
       "      <td>inf</td>\n",
       "      <td>inf</td>\n",
       "      <td>0.008113</td>\n",
       "      <td>1,837</td>\n",
       "    </tr>\n",
       "    <tr>\n",
       "      <th>18</th>\n",
       "      <td>32.393081</td>\n",
       "      <td>-106.815781</td>\n",
       "      <td>3.02</td>\n",
       "      <td>-1.86</td>\n",
       "      <td>-0.64</td>\n",
       "      <td>2.59</td>\n",
       "      <td>3.58</td>\n",
       "      <td>1033</td>\n",
       "      <td>69</td>\n",
       "      <td>4.10</td>\n",
       "      <td>...</td>\n",
       "      <td>inf</td>\n",
       "      <td>inf</td>\n",
       "      <td>inf</td>\n",
       "      <td>0.000005</td>\n",
       "      <td>0.065748</td>\n",
       "      <td>inf</td>\n",
       "      <td>inf</td>\n",
       "      <td>inf</td>\n",
       "      <td>0.008113</td>\n",
       "      <td>1,837</td>\n",
       "    </tr>\n",
       "    <tr>\n",
       "      <th>19</th>\n",
       "      <td>32.393081</td>\n",
       "      <td>-106.815781</td>\n",
       "      <td>3.33</td>\n",
       "      <td>-1.77</td>\n",
       "      <td>-0.54</td>\n",
       "      <td>2.91</td>\n",
       "      <td>3.84</td>\n",
       "      <td>1032</td>\n",
       "      <td>68</td>\n",
       "      <td>4.60</td>\n",
       "      <td>...</td>\n",
       "      <td>inf</td>\n",
       "      <td>inf</td>\n",
       "      <td>inf</td>\n",
       "      <td>0.000005</td>\n",
       "      <td>0.065748</td>\n",
       "      <td>inf</td>\n",
       "      <td>inf</td>\n",
       "      <td>inf</td>\n",
       "      <td>0.008113</td>\n",
       "      <td>1,837</td>\n",
       "    </tr>\n",
       "  </tbody>\n",
       "</table>\n",
       "<p>20 rows × 560 columns</p>\n",
       "</div>"
      ],
      "text/plain": [
       "          lat         lon  temp  dew_point  feels_like  temp_min  temp_max  \\\n",
       "0   32.393081 -106.815781  8.99       1.42        7.93      7.60      9.46   \n",
       "1   32.393081 -106.815781  8.25       2.07        7.63      7.44      8.68   \n",
       "2   32.393081 -106.815781  7.37       1.44        6.04      6.10      7.80   \n",
       "3   32.393081 -106.815781  5.58       1.32        3.13      4.30      6.02   \n",
       "4   32.393081 -106.815781  5.43       0.79        5.43      4.75      5.90   \n",
       "5   32.393081 -106.815781  4.68       0.45        4.68      3.70      5.29   \n",
       "6   32.393081 -106.815781  3.89       0.23        3.89      3.27      4.51   \n",
       "7   32.393081 -106.815781  3.06      -1.15        0.10      2.44      3.70   \n",
       "8   32.393081 -106.815781  2.65      -1.50        0.02      2.09      3.36   \n",
       "9   32.393081 -106.815781  2.25      -1.36        0.05      1.87      2.94   \n",
       "10  32.393081 -106.815781  2.26      -0.73        2.26      1.78      2.98   \n",
       "11  32.393081 -106.815781  1.99      -0.67        0.51      1.60      2.78   \n",
       "12  32.393081 -106.815781  1.89      -1.51        1.89      1.52      2.71   \n",
       "13  32.393081 -106.815781  1.66      -1.86       -1.59      1.27      2.50   \n",
       "14  32.393081 -106.815781  1.62      -1.43       -0.68      1.31      2.40   \n",
       "15  32.393081 -106.815781  1.49      -1.70       -0.84      1.21      2.60   \n",
       "16  32.393081 -106.815781  2.05      -2.18       -0.18      1.71      3.10   \n",
       "17  32.393081 -106.815781  2.88      -1.64        0.30      2.45      3.62   \n",
       "18  32.393081 -106.815781  3.02      -1.86       -0.64      2.59      3.58   \n",
       "19  32.393081 -106.815781  3.33      -1.77       -0.54      2.91      3.84   \n",
       "\n",
       "    pressure  humidity  wind_speed  ...  537  538  539       540       541  \\\n",
       "0       1019        59        2.10  ...  inf  inf  inf  0.000005  0.065748   \n",
       "1       1020        65        1.52  ...  inf  inf  inf  0.000005  0.065748   \n",
       "2       1021        66        2.10  ...  inf  inf  inf  0.000005  0.065748   \n",
       "3       1022        74        3.10  ...  inf  inf  inf  0.000005  0.065748   \n",
       "4       1023        72        1.17  ...  inf  inf  inf  0.000005  0.065748   \n",
       "5       1024        74        0.00  ...  inf  inf  inf  0.000005  0.065748   \n",
       "6       1025        77        0.00  ...  inf  inf  inf  0.000005  0.065748   \n",
       "7       1025        73        3.10  ...  inf  inf  inf  0.000005  0.065748   \n",
       "8       1026        73        2.60  ...  inf  inf  inf  0.000005  0.065748   \n",
       "9       1027        76        2.10  ...  inf  inf  inf  0.000005  0.065748   \n",
       "10      1027        80        0.00  ...  inf  inf  inf  0.000005  0.065748   \n",
       "11      1028        82        1.50  ...  inf  inf  inf  0.000005  0.065748   \n",
       "12      1028        77        0.00  ...  inf  inf  inf  0.000005  0.065748   \n",
       "13      1030        76        3.10  ...  inf  inf  inf  0.000005  0.065748   \n",
       "14      1031        79        2.10  ...  inf  inf  inf  0.000005  0.065748   \n",
       "15      1032        78        2.10  ...  inf  inf  inf  0.000005  0.065748   \n",
       "16      1033        72        2.10  ...  inf  inf  inf  0.000005  0.065748   \n",
       "17      1033        71        2.60  ...  inf  inf  inf  0.000005  0.065748   \n",
       "18      1033        69        4.10  ...  inf  inf  inf  0.000005  0.065748   \n",
       "19      1032        68        4.60  ...  inf  inf  inf  0.000005  0.065748   \n",
       "\n",
       "    542  543  544       545  yield  \n",
       "0   inf  inf  inf  0.008113  1,837  \n",
       "1   inf  inf  inf  0.008113  1,837  \n",
       "2   inf  inf  inf  0.008113  1,837  \n",
       "3   inf  inf  inf  0.008113  1,837  \n",
       "4   inf  inf  inf  0.008113  1,837  \n",
       "5   inf  inf  inf  0.008113  1,837  \n",
       "6   inf  inf  inf  0.008113  1,837  \n",
       "7   inf  inf  inf  0.008113  1,837  \n",
       "8   inf  inf  inf  0.008113  1,837  \n",
       "9   inf  inf  inf  0.008113  1,837  \n",
       "10  inf  inf  inf  0.008113  1,837  \n",
       "11  inf  inf  inf  0.008113  1,837  \n",
       "12  inf  inf  inf  0.008113  1,837  \n",
       "13  inf  inf  inf  0.008113  1,837  \n",
       "14  inf  inf  inf  0.008113  1,837  \n",
       "15  inf  inf  inf  0.008113  1,837  \n",
       "16  inf  inf  inf  0.008113  1,837  \n",
       "17  inf  inf  inf  0.008113  1,837  \n",
       "18  inf  inf  inf  0.008113  1,837  \n",
       "19  inf  inf  inf  0.008113  1,837  \n",
       "\n",
       "[20 rows x 560 columns]"
      ]
     },
     "execution_count": 5,
     "metadata": {},
     "output_type": "execute_result"
    }
   ],
   "source": [
    "for index, row in crop_yield.iterrows():\n",
    "    year = row['Year']\n",
    "    county = row['County']\n",
    "    yield_value = row['Value']\n",
    "    df.loc[(df['dt'].str.contains(str(year))) & (df['city_name'].str.contains(str(county))), 'yield'] = yield_value\n",
    "    \n",
    "df.drop(columns=['dt', 'city_name', 'weather_main', 'weather_description', 'Unnamed: 0'], inplace=True)\n",
    "df.head(20)"
   ]
  },
  {
   "cell_type": "code",
   "execution_count": 6,
   "metadata": {},
   "outputs": [],
   "source": [
    "df = df.astype('float', errors='ignore')\n"
   ]
  },
  {
   "cell_type": "code",
   "execution_count": 7,
   "metadata": {},
   "outputs": [
    {
     "name": "stdout",
     "output_type": "stream",
     "text": [
      "lat           float64\n",
      "lon           float64\n",
      "temp          float64\n",
      "dew_point     float64\n",
      "feels_like    float64\n",
      "               ...   \n",
      "542           float64\n",
      "543           float64\n",
      "544           float64\n",
      "545           float64\n",
      "yield          object\n",
      "Length: 560, dtype: object\n"
     ]
    },
    {
     "data": {
      "text/html": [
       "<div>\n",
       "<style scoped>\n",
       "    .dataframe tbody tr th:only-of-type {\n",
       "        vertical-align: middle;\n",
       "    }\n",
       "\n",
       "    .dataframe tbody tr th {\n",
       "        vertical-align: top;\n",
       "    }\n",
       "\n",
       "    .dataframe thead th {\n",
       "        text-align: right;\n",
       "    }\n",
       "</style>\n",
       "<table border=\"1\" class=\"dataframe\">\n",
       "  <thead>\n",
       "    <tr style=\"text-align: right;\">\n",
       "      <th></th>\n",
       "      <th>lat</th>\n",
       "      <th>lon</th>\n",
       "      <th>temp</th>\n",
       "      <th>dew_point</th>\n",
       "      <th>feels_like</th>\n",
       "      <th>temp_min</th>\n",
       "      <th>temp_max</th>\n",
       "      <th>pressure</th>\n",
       "      <th>humidity</th>\n",
       "      <th>wind_speed</th>\n",
       "      <th>...</th>\n",
       "      <th>537</th>\n",
       "      <th>538</th>\n",
       "      <th>539</th>\n",
       "      <th>540</th>\n",
       "      <th>541</th>\n",
       "      <th>542</th>\n",
       "      <th>543</th>\n",
       "      <th>544</th>\n",
       "      <th>545</th>\n",
       "      <th>yield</th>\n",
       "    </tr>\n",
       "  </thead>\n",
       "  <tbody>\n",
       "    <tr>\n",
       "      <th>0</th>\n",
       "      <td>32.393081</td>\n",
       "      <td>-106.815781</td>\n",
       "      <td>8.99</td>\n",
       "      <td>1.42</td>\n",
       "      <td>7.93</td>\n",
       "      <td>7.60</td>\n",
       "      <td>9.46</td>\n",
       "      <td>1019.0</td>\n",
       "      <td>59.0</td>\n",
       "      <td>2.10</td>\n",
       "      <td>...</td>\n",
       "      <td>inf</td>\n",
       "      <td>inf</td>\n",
       "      <td>inf</td>\n",
       "      <td>0.000005</td>\n",
       "      <td>0.065748</td>\n",
       "      <td>inf</td>\n",
       "      <td>inf</td>\n",
       "      <td>inf</td>\n",
       "      <td>0.008113</td>\n",
       "      <td>1,837</td>\n",
       "    </tr>\n",
       "    <tr>\n",
       "      <th>1</th>\n",
       "      <td>32.393081</td>\n",
       "      <td>-106.815781</td>\n",
       "      <td>8.25</td>\n",
       "      <td>2.07</td>\n",
       "      <td>7.63</td>\n",
       "      <td>7.44</td>\n",
       "      <td>8.68</td>\n",
       "      <td>1020.0</td>\n",
       "      <td>65.0</td>\n",
       "      <td>1.52</td>\n",
       "      <td>...</td>\n",
       "      <td>inf</td>\n",
       "      <td>inf</td>\n",
       "      <td>inf</td>\n",
       "      <td>0.000005</td>\n",
       "      <td>0.065748</td>\n",
       "      <td>inf</td>\n",
       "      <td>inf</td>\n",
       "      <td>inf</td>\n",
       "      <td>0.008113</td>\n",
       "      <td>1,837</td>\n",
       "    </tr>\n",
       "    <tr>\n",
       "      <th>2</th>\n",
       "      <td>32.393081</td>\n",
       "      <td>-106.815781</td>\n",
       "      <td>7.37</td>\n",
       "      <td>1.44</td>\n",
       "      <td>6.04</td>\n",
       "      <td>6.10</td>\n",
       "      <td>7.80</td>\n",
       "      <td>1021.0</td>\n",
       "      <td>66.0</td>\n",
       "      <td>2.10</td>\n",
       "      <td>...</td>\n",
       "      <td>inf</td>\n",
       "      <td>inf</td>\n",
       "      <td>inf</td>\n",
       "      <td>0.000005</td>\n",
       "      <td>0.065748</td>\n",
       "      <td>inf</td>\n",
       "      <td>inf</td>\n",
       "      <td>inf</td>\n",
       "      <td>0.008113</td>\n",
       "      <td>1,837</td>\n",
       "    </tr>\n",
       "    <tr>\n",
       "      <th>3</th>\n",
       "      <td>32.393081</td>\n",
       "      <td>-106.815781</td>\n",
       "      <td>5.58</td>\n",
       "      <td>1.32</td>\n",
       "      <td>3.13</td>\n",
       "      <td>4.30</td>\n",
       "      <td>6.02</td>\n",
       "      <td>1022.0</td>\n",
       "      <td>74.0</td>\n",
       "      <td>3.10</td>\n",
       "      <td>...</td>\n",
       "      <td>inf</td>\n",
       "      <td>inf</td>\n",
       "      <td>inf</td>\n",
       "      <td>0.000005</td>\n",
       "      <td>0.065748</td>\n",
       "      <td>inf</td>\n",
       "      <td>inf</td>\n",
       "      <td>inf</td>\n",
       "      <td>0.008113</td>\n",
       "      <td>1,837</td>\n",
       "    </tr>\n",
       "    <tr>\n",
       "      <th>4</th>\n",
       "      <td>32.393081</td>\n",
       "      <td>-106.815781</td>\n",
       "      <td>5.43</td>\n",
       "      <td>0.79</td>\n",
       "      <td>5.43</td>\n",
       "      <td>4.75</td>\n",
       "      <td>5.90</td>\n",
       "      <td>1023.0</td>\n",
       "      <td>72.0</td>\n",
       "      <td>1.17</td>\n",
       "      <td>...</td>\n",
       "      <td>inf</td>\n",
       "      <td>inf</td>\n",
       "      <td>inf</td>\n",
       "      <td>0.000005</td>\n",
       "      <td>0.065748</td>\n",
       "      <td>inf</td>\n",
       "      <td>inf</td>\n",
       "      <td>inf</td>\n",
       "      <td>0.008113</td>\n",
       "      <td>1,837</td>\n",
       "    </tr>\n",
       "  </tbody>\n",
       "</table>\n",
       "<p>5 rows × 560 columns</p>\n",
       "</div>"
      ],
      "text/plain": [
       "         lat         lon  temp  dew_point  feels_like  temp_min  temp_max  \\\n",
       "0  32.393081 -106.815781  8.99       1.42        7.93      7.60      9.46   \n",
       "1  32.393081 -106.815781  8.25       2.07        7.63      7.44      8.68   \n",
       "2  32.393081 -106.815781  7.37       1.44        6.04      6.10      7.80   \n",
       "3  32.393081 -106.815781  5.58       1.32        3.13      4.30      6.02   \n",
       "4  32.393081 -106.815781  5.43       0.79        5.43      4.75      5.90   \n",
       "\n",
       "   pressure  humidity  wind_speed  ...  537  538  539       540       541  \\\n",
       "0    1019.0      59.0        2.10  ...  inf  inf  inf  0.000005  0.065748   \n",
       "1    1020.0      65.0        1.52  ...  inf  inf  inf  0.000005  0.065748   \n",
       "2    1021.0      66.0        2.10  ...  inf  inf  inf  0.000005  0.065748   \n",
       "3    1022.0      74.0        3.10  ...  inf  inf  inf  0.000005  0.065748   \n",
       "4    1023.0      72.0        1.17  ...  inf  inf  inf  0.000005  0.065748   \n",
       "\n",
       "   542  543  544       545  yield  \n",
       "0  inf  inf  inf  0.008113  1,837  \n",
       "1  inf  inf  inf  0.008113  1,837  \n",
       "2  inf  inf  inf  0.008113  1,837  \n",
       "3  inf  inf  inf  0.008113  1,837  \n",
       "4  inf  inf  inf  0.008113  1,837  \n",
       "\n",
       "[5 rows x 560 columns]"
      ]
     },
     "execution_count": 7,
     "metadata": {},
     "output_type": "execute_result"
    }
   ],
   "source": [
    "print(df.dtypes)\n",
    "df.head()"
   ]
  },
  {
   "cell_type": "code",
   "execution_count": 8,
   "metadata": {},
   "outputs": [
    {
     "name": "stdout",
     "output_type": "stream",
     "text": [
      "x_train.shape: (196300, 559), y_train.shape: (196300,)\n",
      "x_test.shape: (49076, 559), y_test.shape: (49076,)\n",
      "x_train.dtype: float32, y_train.dtype: float32\n"
     ]
    }
   ],
   "source": [
    "x = df.drop(columns=['yield']).values.astype(np.float32)\n",
    "df['yield'] = df['yield'].str.replace(',', '').astype(float)\n",
    "y = df['yield'].values.astype(np.float32)\n",
    "\n",
    "\n",
    "x_train, x_test, y_train, y_test = train_test_split(x, y, test_size=0.2, random_state=42)\n",
    "print(f'x_train.shape: {x_train.shape}, y_train.shape: {y_train.shape}')\n",
    "print(f'x_test.shape: {x_test.shape}, y_test.shape: {y_test.shape}')\n",
    "print(f'x_train.dtype: {x_train.dtype}, y_train.dtype: {y_train.dtype}')\n"
   ]
  },
  {
   "cell_type": "code",
   "execution_count": 9,
   "metadata": {},
   "outputs": [
    {
     "name": "stdout",
     "output_type": "stream",
     "text": [
      "Initial loss: 3773652.75\n",
      "Epoch 0: Loss = 3773652.75\n",
      "Epoch 10: Loss = 3743778.0\n",
      "Epoch 20: Loss = 3651423.0\n",
      "Epoch 30: Loss = 3477364.25\n",
      "Epoch 40: Loss = 3210980.25\n",
      "Epoch 50: Loss = 2854241.5\n",
      "Epoch 60: Loss = 2423487.25\n",
      "Epoch 70: Loss = 1948538.375\n",
      "Epoch 80: Loss = 1469185.875\n",
      "Epoch 90: Loss = 1028974.9375\n",
      "Epoch 100: Loss = 666432.375\n",
      "Epoch 110: Loss = 405116.28125\n",
      "Epoch 120: Loss = 246155.40625\n",
      "Epoch 130: Loss = 168718.8125\n",
      "Epoch 140: Loss = 140899.078125\n",
      "Epoch 150: Loss = 134742.390625\n",
      "Epoch 160: Loss = 134471.125\n",
      "Epoch 170: Loss = 134658.453125\n",
      "Epoch 180: Loss = 134570.90625\n",
      "Epoch 190: Loss = 134447.515625\n",
      "Training time: 759.42s\n",
      "0.weight gradient: nan\n",
      "0.bias gradient: 0.0\n",
      "2.weight gradient: 0.0\n",
      "2.bias gradient: 311.7840576171875\n",
      "4.weight gradient: 311.53363037109375\n",
      "4.bias gradient: 7.130643367767334\n"
     ]
    }
   ],
   "source": [
    "\n",
    "# Define model\n",
    "model = nn.Sequential(\n",
    "    nn.Linear(559, 1024),\n",
    "    nn.ReLU(),\n",
    "    nn.Linear(1024, 2048),\n",
    "    nn.ReLU(),\n",
    "    nn.Linear(2048, 1)\n",
    ").to(device)\n",
    "\n",
    "# Loss function and optimizer\n",
    "loss_fn = nn.MSELoss()\n",
    "optimizer = optim.Adam(model.parameters(), lr=0.01)\n",
    "\n",
    "# Assuming x_train and y_train are numpy arrays\n",
    "x_train = np.nan_to_num(x_train, nan=np.nanmean(x_train), posinf=np.nanmax(x_train[np.isfinite(x_train)]), neginf=np.nanmin(x_train[np.isfinite(x_train)]))\n",
    "y_train = np.nan_to_num(y_train, nan=np.nanmean(y_train), posinf=np.nanmax(y_train[np.isfinite(y_train)]), neginf=np.nanmin(y_train[np.isfinite(y_train)]))\n",
    "\n",
    "# Data conversion to tensors and moving them to the correct device\n",
    "x_train_tensor = torch.from_numpy(x_train).float().to(device)\n",
    "y_train_tensor = torch.from_numpy(y_train).float().to(device)\n",
    "\n",
    "\n",
    "# Initial loss check\n",
    "with torch.no_grad():\n",
    "    initial_predictions = model(x_train_tensor).squeeze()\n",
    "    initial_loss = loss_fn(initial_predictions, y_train_tensor)\n",
    "    print(f'Initial loss: {initial_loss.item()}')\n",
    "\n",
    "# Training loop\n",
    "start = time.time()\n",
    "loss_history = []\n",
    "for epoch in range(200):\n",
    "    optimizer.zero_grad()\n",
    "    predictions = model(x_train_tensor).squeeze()  # Adjust the output dimension\n",
    "    loss_val = loss_fn(predictions, y_train_tensor)\n",
    "    loss_val.backward()\n",
    "    optimizer.step()\n",
    "    loss_history.append(loss_val.item())\n",
    "    if epoch % 10 == 0:\n",
    "        print(f'Epoch {epoch}: Loss = {loss_val.item()}')\n",
    "\n",
    "end = time.time()\n",
    "\n",
    "print(f'Training time: {end - start:.2f}s')\n",
    "\n",
    "# Check gradients\n",
    "for name, param in model.named_parameters():\n",
    "    if param.grad is not None:\n",
    "        print(f'{name} gradient: {param.grad.norm().item()}')\n",
    "    else:\n",
    "        print(f'{name} gradient: None')\n"
   ]
  },
  {
   "cell_type": "code",
   "execution_count": 10,
   "metadata": {},
   "outputs": [
    {
     "data": {
      "application/vnd.plotly.v1+json": {
       "config": {
        "plotlyServerURL": "https://plot.ly"
       },
       "data": [
        {
         "mode": "lines",
         "name": "Loss",
         "type": "scatter",
         "x": [
          0,
          1,
          2,
          3,
          4,
          5,
          6,
          7,
          8,
          9,
          10,
          11,
          12,
          13,
          14,
          15,
          16,
          17,
          18,
          19,
          20,
          21,
          22,
          23,
          24,
          25,
          26,
          27,
          28,
          29,
          30,
          31,
          32,
          33,
          34,
          35,
          36,
          37,
          38,
          39,
          40,
          41,
          42,
          43,
          44,
          45,
          46,
          47,
          48,
          49,
          50,
          51,
          52,
          53,
          54,
          55,
          56,
          57,
          58,
          59,
          60,
          61,
          62,
          63,
          64,
          65,
          66,
          67,
          68,
          69,
          70,
          71,
          72,
          73,
          74,
          75,
          76,
          77,
          78,
          79,
          80,
          81,
          82,
          83,
          84,
          85,
          86,
          87,
          88,
          89,
          90,
          91,
          92,
          93,
          94,
          95,
          96,
          97,
          98,
          99,
          100,
          101,
          102,
          103,
          104,
          105,
          106,
          107,
          108,
          109,
          110,
          111,
          112,
          113,
          114,
          115,
          116,
          117,
          118,
          119,
          120,
          121,
          122,
          123,
          124,
          125,
          126,
          127,
          128,
          129,
          130,
          131,
          132,
          133,
          134,
          135,
          136,
          137,
          138,
          139,
          140,
          141,
          142,
          143,
          144,
          145,
          146,
          147,
          148,
          149,
          150,
          151,
          152,
          153,
          154,
          155,
          156,
          157,
          158,
          159,
          160,
          161,
          162,
          163,
          164,
          165,
          166,
          167,
          168,
          169,
          170,
          171,
          172,
          173,
          174,
          175,
          176,
          177,
          178,
          179,
          180,
          181,
          182,
          183,
          184,
          185,
          186,
          187,
          188,
          189,
          190,
          191,
          192,
          193,
          194,
          195,
          196,
          197,
          198,
          199
         ],
         "y": [
          3773652.75,
          3772559.25,
          3771312,
          3769694.75,
          3767608.25,
          3765019.25,
          3761905.75,
          3758246.25,
          3754019.5,
          3749203.5,
          3743778,
          3737720.75,
          3731011.5,
          3723629.25,
          3715552.75,
          3706762.25,
          3697237.75,
          3686960,
          3675910,
          3664070,
          3651423,
          3637950.75,
          3623640,
          3608474.25,
          3592440.5,
          3575525.75,
          3557718,
          3539006.75,
          3519382.75,
          3498837.5,
          3477364.25,
          3454956.75,
          3431610.75,
          3407323.75,
          3382093,
          3355919.25,
          3328802.25,
          3300745.25,
          3271752,
          3241828.25,
          3210980.25,
          3179216.5,
          3146546.75,
          3112982.75,
          3078536.5,
          3043222.75,
          3007057.5,
          2970056.75,
          2932240.25,
          2893627.75,
          2854241.5,
          2814102.5,
          2773237,
          2731669.75,
          2689428,
          2646540,
          2603035.5,
          2558945.5,
          2514301.5,
          2469137.25,
          2423487.25,
          2377386.75,
          2330872.25,
          2283981.25,
          2236752.25,
          2189224.75,
          2141438.5,
          2093435,
          2045255.5,
          1996942.375,
          1948538.375,
          1900087.125,
          1851632.25,
          1803217.5,
          1754888,
          1706687.375,
          1658660.875,
          1610853.25,
          1563308.75,
          1516071.375,
          1469185.875,
          1422696.125,
          1376644.75,
          1331074.75,
          1286027.625,
          1241545.5,
          1197667.875,
          1154434.625,
          1111883.375,
          1070051.75,
          1028974.9375,
          988687.375,
          949221.9375,
          910609.5625,
          872879.25,
          836059.75,
          800175.0625,
          765249.875,
          731305,
          698360.375,
          666432.375,
          635536.0625,
          605683.875,
          576885.875,
          549148.9375,
          522478.5,
          496876.59375,
          472343.375,
          448876.125,
          426469.6875,
          405116.28125,
          384806,
          365526.15625,
          347261.9375,
          329996.15625,
          313709.8125,
          298381.46875,
          283987.71875,
          270503.46875,
          257902.140625,
          246155.40625,
          235233.59375,
          225106.0625,
          215740.765625,
          207105.03125,
          199165.546875,
          191888.3125,
          185239.3125,
          179184.140625,
          173688.640625,
          168718.8125,
          164240.96875,
          160221.875,
          156629.28125,
          153431.53125,
          150598,
          148099.078125,
          145906.265625,
          143992.359375,
          142331.53125,
          140899.078125,
          139671.90625,
          138628.234375,
          137747.734375,
          137011.5625,
          136402.21875,
          135903.625,
          135501.125,
          135181.265625,
          134932,
          134742.390625,
          134602.734375,
          134504.359375,
          134439.65625,
          134401.953125,
          134385.4375,
          134385.171875,
          134396.875,
          134417,
          134442.546875,
          134471.125,
          134500.734375,
          134529.84375,
          134557.28125,
          134582.1875,
          134603.953125,
          134622.203125,
          134636.765625,
          134647.59375,
          134654.765625,
          134658.453125,
          134658.90625,
          134656.421875,
          134651.328125,
          134643.96875,
          134634.6875,
          134623.8125,
          134611.71875,
          134598.671875,
          134584.984375,
          134570.90625,
          134556.6875,
          134542.515625,
          134528.625,
          134515.109375,
          134502.109375,
          134489.71875,
          134478.03125,
          134467.0625,
          134456.890625,
          134447.515625,
          134438.953125,
          134431.15625,
          134424.125,
          134417.84375,
          134412.28125,
          134407.390625,
          134403.109375,
          134399.4375,
          134396.265625
         ]
        }
       ],
       "layout": {
        "template": {
         "data": {
          "bar": [
           {
            "error_x": {
             "color": "#2a3f5f"
            },
            "error_y": {
             "color": "#2a3f5f"
            },
            "marker": {
             "line": {
              "color": "#E5ECF6",
              "width": 0.5
             },
             "pattern": {
              "fillmode": "overlay",
              "size": 10,
              "solidity": 0.2
             }
            },
            "type": "bar"
           }
          ],
          "barpolar": [
           {
            "marker": {
             "line": {
              "color": "#E5ECF6",
              "width": 0.5
             },
             "pattern": {
              "fillmode": "overlay",
              "size": 10,
              "solidity": 0.2
             }
            },
            "type": "barpolar"
           }
          ],
          "carpet": [
           {
            "aaxis": {
             "endlinecolor": "#2a3f5f",
             "gridcolor": "white",
             "linecolor": "white",
             "minorgridcolor": "white",
             "startlinecolor": "#2a3f5f"
            },
            "baxis": {
             "endlinecolor": "#2a3f5f",
             "gridcolor": "white",
             "linecolor": "white",
             "minorgridcolor": "white",
             "startlinecolor": "#2a3f5f"
            },
            "type": "carpet"
           }
          ],
          "choropleth": [
           {
            "colorbar": {
             "outlinewidth": 0,
             "ticks": ""
            },
            "type": "choropleth"
           }
          ],
          "contour": [
           {
            "colorbar": {
             "outlinewidth": 0,
             "ticks": ""
            },
            "colorscale": [
             [
              0,
              "#0d0887"
             ],
             [
              0.1111111111111111,
              "#46039f"
             ],
             [
              0.2222222222222222,
              "#7201a8"
             ],
             [
              0.3333333333333333,
              "#9c179e"
             ],
             [
              0.4444444444444444,
              "#bd3786"
             ],
             [
              0.5555555555555556,
              "#d8576b"
             ],
             [
              0.6666666666666666,
              "#ed7953"
             ],
             [
              0.7777777777777778,
              "#fb9f3a"
             ],
             [
              0.8888888888888888,
              "#fdca26"
             ],
             [
              1,
              "#f0f921"
             ]
            ],
            "type": "contour"
           }
          ],
          "contourcarpet": [
           {
            "colorbar": {
             "outlinewidth": 0,
             "ticks": ""
            },
            "type": "contourcarpet"
           }
          ],
          "heatmap": [
           {
            "colorbar": {
             "outlinewidth": 0,
             "ticks": ""
            },
            "colorscale": [
             [
              0,
              "#0d0887"
             ],
             [
              0.1111111111111111,
              "#46039f"
             ],
             [
              0.2222222222222222,
              "#7201a8"
             ],
             [
              0.3333333333333333,
              "#9c179e"
             ],
             [
              0.4444444444444444,
              "#bd3786"
             ],
             [
              0.5555555555555556,
              "#d8576b"
             ],
             [
              0.6666666666666666,
              "#ed7953"
             ],
             [
              0.7777777777777778,
              "#fb9f3a"
             ],
             [
              0.8888888888888888,
              "#fdca26"
             ],
             [
              1,
              "#f0f921"
             ]
            ],
            "type": "heatmap"
           }
          ],
          "heatmapgl": [
           {
            "colorbar": {
             "outlinewidth": 0,
             "ticks": ""
            },
            "colorscale": [
             [
              0,
              "#0d0887"
             ],
             [
              0.1111111111111111,
              "#46039f"
             ],
             [
              0.2222222222222222,
              "#7201a8"
             ],
             [
              0.3333333333333333,
              "#9c179e"
             ],
             [
              0.4444444444444444,
              "#bd3786"
             ],
             [
              0.5555555555555556,
              "#d8576b"
             ],
             [
              0.6666666666666666,
              "#ed7953"
             ],
             [
              0.7777777777777778,
              "#fb9f3a"
             ],
             [
              0.8888888888888888,
              "#fdca26"
             ],
             [
              1,
              "#f0f921"
             ]
            ],
            "type": "heatmapgl"
           }
          ],
          "histogram": [
           {
            "marker": {
             "pattern": {
              "fillmode": "overlay",
              "size": 10,
              "solidity": 0.2
             }
            },
            "type": "histogram"
           }
          ],
          "histogram2d": [
           {
            "colorbar": {
             "outlinewidth": 0,
             "ticks": ""
            },
            "colorscale": [
             [
              0,
              "#0d0887"
             ],
             [
              0.1111111111111111,
              "#46039f"
             ],
             [
              0.2222222222222222,
              "#7201a8"
             ],
             [
              0.3333333333333333,
              "#9c179e"
             ],
             [
              0.4444444444444444,
              "#bd3786"
             ],
             [
              0.5555555555555556,
              "#d8576b"
             ],
             [
              0.6666666666666666,
              "#ed7953"
             ],
             [
              0.7777777777777778,
              "#fb9f3a"
             ],
             [
              0.8888888888888888,
              "#fdca26"
             ],
             [
              1,
              "#f0f921"
             ]
            ],
            "type": "histogram2d"
           }
          ],
          "histogram2dcontour": [
           {
            "colorbar": {
             "outlinewidth": 0,
             "ticks": ""
            },
            "colorscale": [
             [
              0,
              "#0d0887"
             ],
             [
              0.1111111111111111,
              "#46039f"
             ],
             [
              0.2222222222222222,
              "#7201a8"
             ],
             [
              0.3333333333333333,
              "#9c179e"
             ],
             [
              0.4444444444444444,
              "#bd3786"
             ],
             [
              0.5555555555555556,
              "#d8576b"
             ],
             [
              0.6666666666666666,
              "#ed7953"
             ],
             [
              0.7777777777777778,
              "#fb9f3a"
             ],
             [
              0.8888888888888888,
              "#fdca26"
             ],
             [
              1,
              "#f0f921"
             ]
            ],
            "type": "histogram2dcontour"
           }
          ],
          "mesh3d": [
           {
            "colorbar": {
             "outlinewidth": 0,
             "ticks": ""
            },
            "type": "mesh3d"
           }
          ],
          "parcoords": [
           {
            "line": {
             "colorbar": {
              "outlinewidth": 0,
              "ticks": ""
             }
            },
            "type": "parcoords"
           }
          ],
          "pie": [
           {
            "automargin": true,
            "type": "pie"
           }
          ],
          "scatter": [
           {
            "fillpattern": {
             "fillmode": "overlay",
             "size": 10,
             "solidity": 0.2
            },
            "type": "scatter"
           }
          ],
          "scatter3d": [
           {
            "line": {
             "colorbar": {
              "outlinewidth": 0,
              "ticks": ""
             }
            },
            "marker": {
             "colorbar": {
              "outlinewidth": 0,
              "ticks": ""
             }
            },
            "type": "scatter3d"
           }
          ],
          "scattercarpet": [
           {
            "marker": {
             "colorbar": {
              "outlinewidth": 0,
              "ticks": ""
             }
            },
            "type": "scattercarpet"
           }
          ],
          "scattergeo": [
           {
            "marker": {
             "colorbar": {
              "outlinewidth": 0,
              "ticks": ""
             }
            },
            "type": "scattergeo"
           }
          ],
          "scattergl": [
           {
            "marker": {
             "colorbar": {
              "outlinewidth": 0,
              "ticks": ""
             }
            },
            "type": "scattergl"
           }
          ],
          "scattermapbox": [
           {
            "marker": {
             "colorbar": {
              "outlinewidth": 0,
              "ticks": ""
             }
            },
            "type": "scattermapbox"
           }
          ],
          "scatterpolar": [
           {
            "marker": {
             "colorbar": {
              "outlinewidth": 0,
              "ticks": ""
             }
            },
            "type": "scatterpolar"
           }
          ],
          "scatterpolargl": [
           {
            "marker": {
             "colorbar": {
              "outlinewidth": 0,
              "ticks": ""
             }
            },
            "type": "scatterpolargl"
           }
          ],
          "scatterternary": [
           {
            "marker": {
             "colorbar": {
              "outlinewidth": 0,
              "ticks": ""
             }
            },
            "type": "scatterternary"
           }
          ],
          "surface": [
           {
            "colorbar": {
             "outlinewidth": 0,
             "ticks": ""
            },
            "colorscale": [
             [
              0,
              "#0d0887"
             ],
             [
              0.1111111111111111,
              "#46039f"
             ],
             [
              0.2222222222222222,
              "#7201a8"
             ],
             [
              0.3333333333333333,
              "#9c179e"
             ],
             [
              0.4444444444444444,
              "#bd3786"
             ],
             [
              0.5555555555555556,
              "#d8576b"
             ],
             [
              0.6666666666666666,
              "#ed7953"
             ],
             [
              0.7777777777777778,
              "#fb9f3a"
             ],
             [
              0.8888888888888888,
              "#fdca26"
             ],
             [
              1,
              "#f0f921"
             ]
            ],
            "type": "surface"
           }
          ],
          "table": [
           {
            "cells": {
             "fill": {
              "color": "#EBF0F8"
             },
             "line": {
              "color": "white"
             }
            },
            "header": {
             "fill": {
              "color": "#C8D4E3"
             },
             "line": {
              "color": "white"
             }
            },
            "type": "table"
           }
          ]
         },
         "layout": {
          "annotationdefaults": {
           "arrowcolor": "#2a3f5f",
           "arrowhead": 0,
           "arrowwidth": 1
          },
          "autotypenumbers": "strict",
          "coloraxis": {
           "colorbar": {
            "outlinewidth": 0,
            "ticks": ""
           }
          },
          "colorscale": {
           "diverging": [
            [
             0,
             "#8e0152"
            ],
            [
             0.1,
             "#c51b7d"
            ],
            [
             0.2,
             "#de77ae"
            ],
            [
             0.3,
             "#f1b6da"
            ],
            [
             0.4,
             "#fde0ef"
            ],
            [
             0.5,
             "#f7f7f7"
            ],
            [
             0.6,
             "#e6f5d0"
            ],
            [
             0.7,
             "#b8e186"
            ],
            [
             0.8,
             "#7fbc41"
            ],
            [
             0.9,
             "#4d9221"
            ],
            [
             1,
             "#276419"
            ]
           ],
           "sequential": [
            [
             0,
             "#0d0887"
            ],
            [
             0.1111111111111111,
             "#46039f"
            ],
            [
             0.2222222222222222,
             "#7201a8"
            ],
            [
             0.3333333333333333,
             "#9c179e"
            ],
            [
             0.4444444444444444,
             "#bd3786"
            ],
            [
             0.5555555555555556,
             "#d8576b"
            ],
            [
             0.6666666666666666,
             "#ed7953"
            ],
            [
             0.7777777777777778,
             "#fb9f3a"
            ],
            [
             0.8888888888888888,
             "#fdca26"
            ],
            [
             1,
             "#f0f921"
            ]
           ],
           "sequentialminus": [
            [
             0,
             "#0d0887"
            ],
            [
             0.1111111111111111,
             "#46039f"
            ],
            [
             0.2222222222222222,
             "#7201a8"
            ],
            [
             0.3333333333333333,
             "#9c179e"
            ],
            [
             0.4444444444444444,
             "#bd3786"
            ],
            [
             0.5555555555555556,
             "#d8576b"
            ],
            [
             0.6666666666666666,
             "#ed7953"
            ],
            [
             0.7777777777777778,
             "#fb9f3a"
            ],
            [
             0.8888888888888888,
             "#fdca26"
            ],
            [
             1,
             "#f0f921"
            ]
           ]
          },
          "colorway": [
           "#636efa",
           "#EF553B",
           "#00cc96",
           "#ab63fa",
           "#FFA15A",
           "#19d3f3",
           "#FF6692",
           "#B6E880",
           "#FF97FF",
           "#FECB52"
          ],
          "font": {
           "color": "#2a3f5f"
          },
          "geo": {
           "bgcolor": "white",
           "lakecolor": "white",
           "landcolor": "#E5ECF6",
           "showlakes": true,
           "showland": true,
           "subunitcolor": "white"
          },
          "hoverlabel": {
           "align": "left"
          },
          "hovermode": "closest",
          "mapbox": {
           "style": "light"
          },
          "paper_bgcolor": "white",
          "plot_bgcolor": "#E5ECF6",
          "polar": {
           "angularaxis": {
            "gridcolor": "white",
            "linecolor": "white",
            "ticks": ""
           },
           "bgcolor": "#E5ECF6",
           "radialaxis": {
            "gridcolor": "white",
            "linecolor": "white",
            "ticks": ""
           }
          },
          "scene": {
           "xaxis": {
            "backgroundcolor": "#E5ECF6",
            "gridcolor": "white",
            "gridwidth": 2,
            "linecolor": "white",
            "showbackground": true,
            "ticks": "",
            "zerolinecolor": "white"
           },
           "yaxis": {
            "backgroundcolor": "#E5ECF6",
            "gridcolor": "white",
            "gridwidth": 2,
            "linecolor": "white",
            "showbackground": true,
            "ticks": "",
            "zerolinecolor": "white"
           },
           "zaxis": {
            "backgroundcolor": "#E5ECF6",
            "gridcolor": "white",
            "gridwidth": 2,
            "linecolor": "white",
            "showbackground": true,
            "ticks": "",
            "zerolinecolor": "white"
           }
          },
          "shapedefaults": {
           "line": {
            "color": "#2a3f5f"
           }
          },
          "ternary": {
           "aaxis": {
            "gridcolor": "white",
            "linecolor": "white",
            "ticks": ""
           },
           "baxis": {
            "gridcolor": "white",
            "linecolor": "white",
            "ticks": ""
           },
           "bgcolor": "#E5ECF6",
           "caxis": {
            "gridcolor": "white",
            "linecolor": "white",
            "ticks": ""
           }
          },
          "title": {
           "x": 0.05
          },
          "xaxis": {
           "automargin": true,
           "gridcolor": "white",
           "linecolor": "white",
           "ticks": "",
           "title": {
            "standoff": 15
           },
           "zerolinecolor": "white",
           "zerolinewidth": 2
          },
          "yaxis": {
           "automargin": true,
           "gridcolor": "white",
           "linecolor": "white",
           "ticks": "",
           "title": {
            "standoff": 15
           },
           "zerolinecolor": "white",
           "zerolinewidth": 2
          }
         }
        },
        "title": {
         "text": "Loss over time"
        },
        "xaxis": {
         "title": {
          "text": "Epoch"
         }
        },
        "yaxis": {
         "title": {
          "text": "Loss"
         }
        }
       }
      }
     },
     "metadata": {},
     "output_type": "display_data"
    }
   ],
   "source": [
    "fig = go.Figure()\n",
    "fig.add_trace(go.Scatter(x=np.arange(len(loss_history)), y=loss_history, mode='lines', name='Loss'))\n",
    "fig.update_layout(title='Loss over time', xaxis_title='Epoch', yaxis_title='Loss')\n",
    "fig.show()"
   ]
  },
  {
   "cell_type": "code",
   "execution_count": 3,
   "metadata": {},
   "outputs": [],
   "source": [
    "x_train = pd.read_csv('../../data/pecan/dataset4/x_train_05_27_24.csv')\n",
    "y_train = pd.read_csv('../../data/pecan/dataset4/y_train_05_27_24.csv')\n",
    "x_test = pd.read_csv('../../data/pecan/dataset4/x_test_05_27_24.csv')\n",
    "y_test = pd.read_csv('../../data/pecan/dataset4/y_test_05_27_24.csv')"
   ]
  },
  {
   "cell_type": "code",
   "execution_count": 4,
   "metadata": {},
   "outputs": [
    {
     "name": "stdout",
     "output_type": "stream",
     "text": [
      "(16, 122976)\n"
     ]
    },
    {
     "data": {
      "text/html": [
       "<div>\n",
       "<style scoped>\n",
       "    .dataframe tbody tr th:only-of-type {\n",
       "        vertical-align: middle;\n",
       "    }\n",
       "\n",
       "    .dataframe tbody tr th {\n",
       "        vertical-align: top;\n",
       "    }\n",
       "\n",
       "    .dataframe thead th {\n",
       "        text-align: right;\n",
       "    }\n",
       "</style>\n",
       "<table border=\"1\" class=\"dataframe\">\n",
       "  <thead>\n",
       "    <tr style=\"text-align: right;\">\n",
       "      <th></th>\n",
       "      <th>0.000000000000000000e+00</th>\n",
       "      <th>1.085713633614417972e-01</th>\n",
       "      <th>4.535353535353534582e-01</th>\n",
       "      <th>1.130776794493609239e-01</th>\n",
       "      <th>4.399071925754061141e-01</th>\n",
       "      <th>4.655004859086491753e-01</th>\n",
       "      <th>4.549902152641878694e-01</th>\n",
       "      <th>2.727272727272698205e-01</th>\n",
       "      <th>1.199999999999999956e-01</th>\n",
       "      <th>4.781341107871720508e-01</th>\n",
       "      <th>...</th>\n",
       "      <th>0.000000000000000000e+00.23654</th>\n",
       "      <th>0.000000000000000000e+00.23655</th>\n",
       "      <th>0.000000000000000000e+00.23656</th>\n",
       "      <th>0.000000000000000000e+00.23657</th>\n",
       "      <th>0.000000000000000000e+00.23658</th>\n",
       "      <th>0.000000000000000000e+00.23659</th>\n",
       "      <th>0.000000000000000000e+00.23660</th>\n",
       "      <th>0.000000000000000000e+00.23661</th>\n",
       "      <th>0.000000000000000000e+00.23662</th>\n",
       "      <th>0.000000000000000000e+00.23663</th>\n",
       "    </tr>\n",
       "  </thead>\n",
       "  <tbody>\n",
       "    <tr>\n",
       "      <th>0</th>\n",
       "      <td>0.684904</td>\n",
       "      <td>0.000000</td>\n",
       "      <td>0.399495</td>\n",
       "      <td>0.000000</td>\n",
       "      <td>0.487239</td>\n",
       "      <td>0.452867</td>\n",
       "      <td>0.363503</td>\n",
       "      <td>0.272727</td>\n",
       "      <td>0.080000</td>\n",
       "      <td>0.145773</td>\n",
       "      <td>...</td>\n",
       "      <td>0.000000</td>\n",
       "      <td>0.000000</td>\n",
       "      <td>0.000000</td>\n",
       "      <td>0.000000</td>\n",
       "      <td>0.000000</td>\n",
       "      <td>0.000000</td>\n",
       "      <td>0.0</td>\n",
       "      <td>0.0</td>\n",
       "      <td>0.0</td>\n",
       "      <td>0.0</td>\n",
       "    </tr>\n",
       "    <tr>\n",
       "      <th>1</th>\n",
       "      <td>1.000000</td>\n",
       "      <td>1.000000</td>\n",
       "      <td>0.416667</td>\n",
       "      <td>0.358899</td>\n",
       "      <td>0.458005</td>\n",
       "      <td>0.443149</td>\n",
       "      <td>0.371331</td>\n",
       "      <td>0.484848</td>\n",
       "      <td>0.320000</td>\n",
       "      <td>0.252672</td>\n",
       "      <td>...</td>\n",
       "      <td>0.697214</td>\n",
       "      <td>0.753897</td>\n",
       "      <td>0.620712</td>\n",
       "      <td>1.000000</td>\n",
       "      <td>0.289474</td>\n",
       "      <td>0.000000</td>\n",
       "      <td>0.0</td>\n",
       "      <td>0.0</td>\n",
       "      <td>0.0</td>\n",
       "      <td>1.0</td>\n",
       "    </tr>\n",
       "    <tr>\n",
       "      <th>2</th>\n",
       "      <td>0.000000</td>\n",
       "      <td>0.108571</td>\n",
       "      <td>0.463636</td>\n",
       "      <td>0.410029</td>\n",
       "      <td>0.435267</td>\n",
       "      <td>0.477648</td>\n",
       "      <td>0.448630</td>\n",
       "      <td>0.272727</td>\n",
       "      <td>0.333333</td>\n",
       "      <td>0.564626</td>\n",
       "      <td>...</td>\n",
       "      <td>0.000000</td>\n",
       "      <td>0.000000</td>\n",
       "      <td>0.000000</td>\n",
       "      <td>0.000000</td>\n",
       "      <td>0.000000</td>\n",
       "      <td>0.000000</td>\n",
       "      <td>0.0</td>\n",
       "      <td>0.0</td>\n",
       "      <td>0.0</td>\n",
       "      <td>0.0</td>\n",
       "    </tr>\n",
       "    <tr>\n",
       "      <th>3</th>\n",
       "      <td>0.000000</td>\n",
       "      <td>0.108571</td>\n",
       "      <td>0.500000</td>\n",
       "      <td>0.254179</td>\n",
       "      <td>0.566125</td>\n",
       "      <td>0.504373</td>\n",
       "      <td>0.509295</td>\n",
       "      <td>0.484848</td>\n",
       "      <td>0.186667</td>\n",
       "      <td>0.204082</td>\n",
       "      <td>...</td>\n",
       "      <td>0.543255</td>\n",
       "      <td>0.683347</td>\n",
       "      <td>0.698382</td>\n",
       "      <td>0.999011</td>\n",
       "      <td>0.289474</td>\n",
       "      <td>0.724473</td>\n",
       "      <td>1.0</td>\n",
       "      <td>0.0</td>\n",
       "      <td>0.0</td>\n",
       "      <td>1.0</td>\n",
       "    </tr>\n",
       "    <tr>\n",
       "      <th>4</th>\n",
       "      <td>0.684904</td>\n",
       "      <td>0.000000</td>\n",
       "      <td>0.564646</td>\n",
       "      <td>0.531465</td>\n",
       "      <td>0.591647</td>\n",
       "      <td>0.612731</td>\n",
       "      <td>0.608121</td>\n",
       "      <td>0.242424</td>\n",
       "      <td>0.373333</td>\n",
       "      <td>0.400389</td>\n",
       "      <td>...</td>\n",
       "      <td>0.000000</td>\n",
       "      <td>0.000000</td>\n",
       "      <td>0.000000</td>\n",
       "      <td>0.000000</td>\n",
       "      <td>0.000000</td>\n",
       "      <td>0.000000</td>\n",
       "      <td>0.0</td>\n",
       "      <td>0.0</td>\n",
       "      <td>0.0</td>\n",
       "      <td>0.0</td>\n",
       "    </tr>\n",
       "  </tbody>\n",
       "</table>\n",
       "<p>5 rows × 122976 columns</p>\n",
       "</div>"
      ],
      "text/plain": [
       "   0.000000000000000000e+00  1.085713633614417972e-01  \\\n",
       "0                  0.684904                  0.000000   \n",
       "1                  1.000000                  1.000000   \n",
       "2                  0.000000                  0.108571   \n",
       "3                  0.000000                  0.108571   \n",
       "4                  0.684904                  0.000000   \n",
       "\n",
       "   4.535353535353534582e-01  1.130776794493609239e-01  \\\n",
       "0                  0.399495                  0.000000   \n",
       "1                  0.416667                  0.358899   \n",
       "2                  0.463636                  0.410029   \n",
       "3                  0.500000                  0.254179   \n",
       "4                  0.564646                  0.531465   \n",
       "\n",
       "   4.399071925754061141e-01  4.655004859086491753e-01  \\\n",
       "0                  0.487239                  0.452867   \n",
       "1                  0.458005                  0.443149   \n",
       "2                  0.435267                  0.477648   \n",
       "3                  0.566125                  0.504373   \n",
       "4                  0.591647                  0.612731   \n",
       "\n",
       "   4.549902152641878694e-01  2.727272727272698205e-01  \\\n",
       "0                  0.363503                  0.272727   \n",
       "1                  0.371331                  0.484848   \n",
       "2                  0.448630                  0.272727   \n",
       "3                  0.509295                  0.484848   \n",
       "4                  0.608121                  0.242424   \n",
       "\n",
       "   1.199999999999999956e-01  4.781341107871720508e-01  ...  \\\n",
       "0                  0.080000                  0.145773  ...   \n",
       "1                  0.320000                  0.252672  ...   \n",
       "2                  0.333333                  0.564626  ...   \n",
       "3                  0.186667                  0.204082  ...   \n",
       "4                  0.373333                  0.400389  ...   \n",
       "\n",
       "   0.000000000000000000e+00.23654  0.000000000000000000e+00.23655  \\\n",
       "0                        0.000000                        0.000000   \n",
       "1                        0.697214                        0.753897   \n",
       "2                        0.000000                        0.000000   \n",
       "3                        0.543255                        0.683347   \n",
       "4                        0.000000                        0.000000   \n",
       "\n",
       "   0.000000000000000000e+00.23656  0.000000000000000000e+00.23657  \\\n",
       "0                        0.000000                        0.000000   \n",
       "1                        0.620712                        1.000000   \n",
       "2                        0.000000                        0.000000   \n",
       "3                        0.698382                        0.999011   \n",
       "4                        0.000000                        0.000000   \n",
       "\n",
       "   0.000000000000000000e+00.23658  0.000000000000000000e+00.23659  \\\n",
       "0                        0.000000                        0.000000   \n",
       "1                        0.289474                        0.000000   \n",
       "2                        0.000000                        0.000000   \n",
       "3                        0.289474                        0.724473   \n",
       "4                        0.000000                        0.000000   \n",
       "\n",
       "   0.000000000000000000e+00.23660  0.000000000000000000e+00.23661  \\\n",
       "0                             0.0                             0.0   \n",
       "1                             0.0                             0.0   \n",
       "2                             0.0                             0.0   \n",
       "3                             1.0                             0.0   \n",
       "4                             0.0                             0.0   \n",
       "\n",
       "   0.000000000000000000e+00.23662  0.000000000000000000e+00.23663  \n",
       "0                             0.0                             0.0  \n",
       "1                             0.0                             1.0  \n",
       "2                             0.0                             0.0  \n",
       "3                             0.0                             1.0  \n",
       "4                             0.0                             0.0  \n",
       "\n",
       "[5 rows x 122976 columns]"
      ]
     },
     "execution_count": 4,
     "metadata": {},
     "output_type": "execute_result"
    }
   ],
   "source": [
    "print(x_train.shape)\n",
    "x_train.head()"
   ]
  },
  {
   "cell_type": "code",
   "execution_count": 5,
   "metadata": {},
   "outputs": [
    {
     "name": "stdout",
     "output_type": "stream",
     "text": [
      "(16, 1)\n"
     ]
    },
    {
     "data": {
      "text/html": [
       "<div>\n",
       "<style scoped>\n",
       "    .dataframe tbody tr th:only-of-type {\n",
       "        vertical-align: middle;\n",
       "    }\n",
       "\n",
       "    .dataframe tbody tr th {\n",
       "        vertical-align: top;\n",
       "    }\n",
       "\n",
       "    .dataframe thead th {\n",
       "        text-align: right;\n",
       "    }\n",
       "</style>\n",
       "<table border=\"1\" class=\"dataframe\">\n",
       "  <thead>\n",
       "    <tr style=\"text-align: right;\">\n",
       "      <th></th>\n",
       "      <th>1.850000000000000000e+03</th>\n",
       "    </tr>\n",
       "  </thead>\n",
       "  <tbody>\n",
       "    <tr>\n",
       "      <th>0</th>\n",
       "      <td>2300.0</td>\n",
       "    </tr>\n",
       "    <tr>\n",
       "      <th>1</th>\n",
       "      <td>2300.0</td>\n",
       "    </tr>\n",
       "    <tr>\n",
       "      <th>2</th>\n",
       "      <td>2010.0</td>\n",
       "    </tr>\n",
       "    <tr>\n",
       "      <th>3</th>\n",
       "      <td>1780.0</td>\n",
       "    </tr>\n",
       "    <tr>\n",
       "      <th>4</th>\n",
       "      <td>1340.0</td>\n",
       "    </tr>\n",
       "  </tbody>\n",
       "</table>\n",
       "</div>"
      ],
      "text/plain": [
       "   1.850000000000000000e+03\n",
       "0                    2300.0\n",
       "1                    2300.0\n",
       "2                    2010.0\n",
       "3                    1780.0\n",
       "4                    1340.0"
      ]
     },
     "execution_count": 5,
     "metadata": {},
     "output_type": "execute_result"
    }
   ],
   "source": [
    "print(y_train.shape)\n",
    "y_train.head()"
   ]
  },
  {
   "cell_type": "code",
   "execution_count": 8,
   "metadata": {},
   "outputs": [
    {
     "name": "stdout",
     "output_type": "stream",
     "text": [
      "Initial loss: 3684446.5\n",
      "Epoch 0: Loss = 3684446.5\n",
      "Epoch 10: Loss = 3683655.0\n",
      "Epoch 20: Loss = 3677844.25\n",
      "Epoch 30: Loss = 3664586.5\n",
      "Epoch 40: Loss = 3642159.0\n",
      "Epoch 50: Loss = 3609177.0\n",
      "Epoch 60: Loss = 3564826.5\n",
      "Epoch 70: Loss = 3508757.0\n",
      "Epoch 80: Loss = 3440968.75\n",
      "Epoch 90: Loss = 3361738.0\n",
      "Epoch 100: Loss = 3271559.75\n",
      "Epoch 110: Loss = 3171105.75\n",
      "Epoch 120: Loss = 3061195.0\n",
      "Epoch 130: Loss = 2942764.75\n",
      "Epoch 140: Loss = 2816853.0\n",
      "Epoch 150: Loss = 2684578.0\n",
      "Epoch 160: Loss = 2547120.5\n",
      "Epoch 170: Loss = 2405706.75\n",
      "Epoch 180: Loss = 2261588.0\n",
      "Epoch 190: Loss = 2116027.0\n",
      "Epoch 200: Loss = 1970278.75\n",
      "Epoch 210: Loss = 1825569.25\n",
      "Epoch 220: Loss = 1683083.25\n",
      "Epoch 230: Loss = 1543941.75\n",
      "Epoch 240: Loss = 1409187.75\n",
      "Epoch 250: Loss = 1279769.0\n",
      "Epoch 260: Loss = 1156523.25\n",
      "Epoch 270: Loss = 1040164.6875\n",
      "Epoch 280: Loss = 931274.9375\n",
      "Epoch 290: Loss = 830293.375\n",
      "Epoch 300: Loss = 737512.5\n",
      "Epoch 310: Loss = 653078.75\n",
      "Epoch 320: Loss = 576994.1875\n",
      "Epoch 330: Loss = 509123.21875\n",
      "Epoch 340: Loss = 449205.0\n",
      "Epoch 350: Loss = 396867.6875\n",
      "Epoch 360: Loss = 351646.5\n",
      "Epoch 370: Loss = 313004.03125\n",
      "Epoch 380: Loss = 280352.21875\n",
      "Epoch 390: Loss = 253073.625\n",
      "Epoch 400: Loss = 230542.3125\n",
      "Epoch 410: Loss = 212143.734375\n",
      "Epoch 420: Loss = 197289.859375\n",
      "Epoch 430: Loss = 185432.15625\n",
      "Epoch 440: Loss = 176071.234375\n",
      "Epoch 450: Loss = 168761.84375\n",
      "Epoch 460: Loss = 163115.0625\n",
      "Epoch 470: Loss = 158798.125\n",
      "Epoch 480: Loss = 155531.3125\n",
      "Epoch 490: Loss = 153083.3125\n",
      "Epoch 500: Loss = 151266.4375\n",
      "Epoch 510: Loss = 149930.3125\n",
      "Epoch 520: Loss = 148956.5\n",
      "Epoch 530: Loss = 148252.8125\n",
      "Epoch 540: Loss = 147748.609375\n",
      "Epoch 550: Loss = 147390.203125\n",
      "Epoch 560: Loss = 147137.453125\n",
      "Epoch 570: Loss = 146960.546875\n",
      "Epoch 580: Loss = 146837.65625\n",
      "Epoch 590: Loss = 146752.921875\n",
      "Epoch 600: Loss = 146694.875\n",
      "Epoch 610: Loss = 146655.4375\n",
      "Epoch 620: Loss = 146628.78125\n",
      "Epoch 630: Loss = 146610.90625\n",
      "Epoch 640: Loss = 146599.0\n",
      "Epoch 650: Loss = 146591.09375\n",
      "Epoch 660: Loss = 146585.9375\n",
      "Epoch 670: Loss = 146582.53125\n",
      "Epoch 680: Loss = 146580.34375\n",
      "Epoch 690: Loss = 146578.9375\n",
      "Epoch 700: Loss = 146578.03125\n",
      "Epoch 710: Loss = 146577.4375\n",
      "Epoch 720: Loss = 146577.09375\n",
      "Epoch 730: Loss = 146576.859375\n",
      "Epoch 740: Loss = 146576.71875\n",
      "Epoch 750: Loss = 146576.625\n",
      "Epoch 760: Loss = 146576.5625\n",
      "Epoch 770: Loss = 146576.53125\n",
      "Epoch 780: Loss = 146576.515625\n",
      "Epoch 790: Loss = 146576.5\n",
      "Epoch 800: Loss = 146576.5\n",
      "Epoch 810: Loss = 146576.484375\n",
      "Epoch 820: Loss = 146576.484375\n",
      "Epoch 830: Loss = 146576.484375\n",
      "Epoch 840: Loss = 146576.484375\n",
      "Epoch 850: Loss = 146576.5\n",
      "Epoch 860: Loss = 146576.484375\n",
      "Epoch 870: Loss = 146576.484375\n",
      "Epoch 880: Loss = 146576.484375\n",
      "Epoch 890: Loss = 146576.46875\n",
      "Epoch 900: Loss = 146576.484375\n",
      "Epoch 910: Loss = 146576.484375\n",
      "Epoch 920: Loss = 146576.484375\n",
      "Epoch 930: Loss = 146576.484375\n",
      "Epoch 940: Loss = 146576.484375\n",
      "Epoch 950: Loss = 146576.484375\n",
      "Epoch 960: Loss = 146576.484375\n",
      "Epoch 970: Loss = 146576.484375\n",
      "Epoch 980: Loss = 146576.484375\n",
      "Epoch 990: Loss = 146576.484375\n",
      "Training time: 45.84s\n",
      "0.weight gradient: 0.0\n",
      "0.bias gradient: 0.0\n",
      "2.weight gradient: 0.0\n",
      "2.bias gradient: 0.36017677187919617\n",
      "4.weight gradient: 0.35974305868148804\n",
      "4.bias gradient: 0.00830078125\n"
     ]
    }
   ],
   "source": [
    "# Define model\n",
    "model = nn.Sequential(\n",
    "    nn.Linear(122976, 4096), \n",
    "    nn.ReLU(),\n",
    "    nn.Linear(4096, 2048),\n",
    "    nn.ReLU(),\n",
    "    nn.Linear(2048, 1)\n",
    ").to(device)\n",
    "\n",
    "\n",
    "# Loss function and optimizer\n",
    "loss_fn = nn.MSELoss()\n",
    "optimizer = optim.Adam(model.parameters(), lr=0.01)\n",
    "\n",
    "# Assuming x_train and y_train are numpy arrays\n",
    "x_train = np.nan_to_num(x_train, nan=np.nanmean(x_train), posinf=np.nanmax(x_train[np.isfinite(x_train)]), neginf=np.nanmin(x_train[np.isfinite(x_train)]))\n",
    "y_train = np.nan_to_num(y_train, nan=np.nanmean(y_train), posinf=np.nanmax(y_train[np.isfinite(y_train)]), neginf=np.nanmin(y_train[np.isfinite(y_train)]))\n",
    "\n",
    "# Data conversion to tensors and moving them to the correct device\n",
    "x_train_tensor = torch.from_numpy(x_train).float().to(device)\n",
    "y_train_tensor = torch.from_numpy(y_train).float().to(device)\n",
    "\n",
    "\n",
    "# Initial loss check\n",
    "with torch.no_grad():\n",
    "    initial_predictions = model(x_train_tensor).squeeze()\n",
    "    initial_loss = loss_fn(initial_predictions, y_train_tensor)\n",
    "    print(f'Initial loss: {initial_loss.item()}')\n",
    "\n",
    "# Training loop\n",
    "start = time.time()\n",
    "loss_history = []\n",
    "for epoch in range(1000):\n",
    "    optimizer.zero_grad()\n",
    "    predictions = model(x_train_tensor).squeeze()  # Adjust the output dimension\n",
    "    loss_val = loss_fn(predictions, y_train_tensor)\n",
    "    loss_val.backward()\n",
    "    optimizer.step()\n",
    "    loss_history.append(loss_val.item())\n",
    "    if epoch % 10 == 0:\n",
    "        print(f'Epoch {epoch}: Loss = {loss_val.item()}')\n",
    "\n",
    "end = time.time()\n",
    "\n",
    "print(f'Training time: {end - start:.2f}s')\n",
    "\n",
    "# Check gradients\n",
    "for name, param in model.named_parameters():\n",
    "    if param.grad is not None:\n",
    "        print(f'{name} gradient: {param.grad.norm().item()}')\n",
    "    else:\n",
    "        print(f'{name} gradient: None')\n"
   ]
  },
  {
   "cell_type": "code",
   "execution_count": null,
   "metadata": {},
   "outputs": [],
   "source": []
  },
  {
   "cell_type": "code",
   "execution_count": null,
   "metadata": {},
   "outputs": [],
   "source": []
  },
  {
   "cell_type": "code",
   "execution_count": null,
   "metadata": {},
   "outputs": [],
   "source": []
  },
  {
   "cell_type": "code",
   "execution_count": null,
   "metadata": {},
   "outputs": [],
   "source": []
  },
  {
   "cell_type": "code",
   "execution_count": null,
   "metadata": {},
   "outputs": [],
   "source": []
  },
  {
   "cell_type": "code",
   "execution_count": null,
   "metadata": {},
   "outputs": [],
   "source": []
  },
  {
   "cell_type": "code",
   "execution_count": null,
   "metadata": {},
   "outputs": [],
   "source": []
  },
  {
   "cell_type": "code",
   "execution_count": null,
   "metadata": {},
   "outputs": [],
   "source": []
  },
  {
   "cell_type": "code",
   "execution_count": null,
   "metadata": {},
   "outputs": [],
   "source": []
  },
  {
   "cell_type": "code",
   "execution_count": null,
   "metadata": {},
   "outputs": [],
   "source": []
  },
  {
   "cell_type": "code",
   "execution_count": null,
   "metadata": {},
   "outputs": [],
   "source": []
  },
  {
   "cell_type": "code",
   "execution_count": null,
   "metadata": {},
   "outputs": [],
   "source": []
  },
  {
   "cell_type": "code",
   "execution_count": null,
   "metadata": {},
   "outputs": [],
   "source": []
  }
 ],
 "metadata": {
  "kernelspec": {
   "display_name": "interpolate",
   "language": "python",
   "name": "python3"
  },
  "language_info": {
   "codemirror_mode": {
    "name": "ipython",
    "version": 3
   },
   "file_extension": ".py",
   "mimetype": "text/x-python",
   "name": "python",
   "nbconvert_exporter": "python",
   "pygments_lexer": "ipython3",
   "version": "3.8.19"
  }
 },
 "nbformat": 4,
 "nbformat_minor": 2
}
